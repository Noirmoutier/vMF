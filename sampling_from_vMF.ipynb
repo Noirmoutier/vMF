{
 "cells": [
  {
   "cell_type": "markdown",
   "metadata": {},
   "source": [
    "# Sampling from the von Mises - Fisher distribution\n",
    "\n",
    "The von Mises - Fisher distribution is a probability distribution on the surface of a unit hypersphere of N dimensions: \n",
    "\n",
    "<div><center>\n",
    "    $f_N(x ; \\mu, \\kappa)$\n",
    "<center></div>\n",
    "\n",
    "Where:\n",
    "* $\\mu$ is the mean direction \n",
    "* $\\kappa$ is the concentration parameter\n",
    "\n",
    "Wikipedia page: https://en.wikipedia.org/wiki/Von_Mises%E2%80%93Fisher_distribution \n",
    "\n",
    "Code used in this example is based on [this](https://stats.stackexchange.com/questions/156729/sampling-from-von-mises-fisher-distribution-in-python) and [this](https://github.com/clara-labs/spherecluster/blob/develop/spherecluster/util.py)."
   ]
  },
  {
   "cell_type": "code",
   "execution_count": 2,
   "metadata": {
    "ExecuteTime": {
     "end_time": "2018-06-05T17:09:11.408780Z",
     "start_time": "2018-06-05T17:09:11.403097Z"
    }
   },
   "outputs": [],
   "source": [
    "%matplotlib inline\n",
    "import numpy as np\n",
    "from sphere import *"
   ]
  },
  {
   "cell_type": "markdown",
   "metadata": {},
   "source": [
    "## For ${\\rm I\\!R}^3$\n",
    "\n",
    "For N = 3 dimensions, the von Mises - Fisher distribution is defined on the surface of a sphere."
   ]
  },
  {
   "cell_type": "code",
   "execution_count": 3,
   "metadata": {
    "ExecuteTime": {
     "end_time": "2018-06-05T17:09:13.634713Z",
     "start_time": "2018-06-05T17:09:13.626763Z"
    }
   },
   "outputs": [
    {
     "name": "stdout",
     "output_type": "stream",
     "text": [
      "average direction: [ 0.48507125 -0.48507125  0.72760688]\n"
     ]
    }
   ],
   "source": [
    "# specify mu as a some 3D vector\n",
    "mu = [2, -2, 3]\n",
    "\n",
    "# normalise to a unit vector \n",
    "norm = np.linalg.norm(mu)\n",
    "mu = mu / norm\n",
    "print ('average direction:', mu)\n",
    "\n",
    "# sampling\n",
    "num_samples = 500\n",
    "kappa = [1, 10, 100]"
   ]
  },
  {
   "cell_type": "code",
   "execution_count": 4,
   "metadata": {
    "ExecuteTime": {
     "end_time": "2018-06-05T17:09:15.581536Z",
     "start_time": "2018-06-05T17:09:15.499221Z"
    }
   },
   "outputs": [],
   "source": [
    "# sample from vMF for a range of kappa\n",
    "samples = []\n",
    "for k in kappa:\n",
    "    samples.append(Sphere().sample(num_samples, distribution = 'vMF', \n",
    "                                   mu = mu, kappa = k))"
   ]
  },
  {
   "cell_type": "code",
   "execution_count": null,
   "metadata": {
    "ExecuteTime": {
     "end_time": "2018-06-05T16:33:25.019168Z",
     "start_time": "2018-06-05T16:33:20.592789Z"
    }
   },
   "outputs": [],
   "source": [
    "# plot points on the unit sphere\n",
    "Sphere().plot(data = samples)"
   ]
  },
  {
   "cell_type": "markdown",
   "metadata": {},
   "source": [
    "## Sampling uniformly over the sphere\n",
    "\n",
    "To contrast, consider a sampler which draws points uniformly on the spherical shell. See [here](http://mathworld.wolfram.com/SpherePointPicking.html) for different implementations."
   ]
  },
  {
   "cell_type": "code",
   "execution_count": null,
   "metadata": {
    "ExecuteTime": {
     "end_time": "2018-06-05T16:33:30.205332Z",
     "start_time": "2018-06-05T16:33:26.137019Z"
    }
   },
   "outputs": [],
   "source": [
    "# sample uniformly over a unit sphere\n",
    "samples = Sphere().sample(num_samples)\n",
    "Sphere().plot(data = samples)"
   ]
  },
  {
   "cell_type": "markdown",
   "metadata": {},
   "source": [
    "## Simulation in Stan\n",
    "\n",
    "Using the vMF_rng defined in `vMF.stan`."
   ]
  },
  {
   "cell_type": "code",
   "execution_count": null,
   "metadata": {
    "ExecuteTime": {
     "end_time": "2018-06-05T16:34:11.119525Z",
     "start_time": "2018-06-05T16:33:30.969601Z"
    }
   },
   "outputs": [],
   "source": [
    "import pystan\n",
    "simulation = pystan.StanModel(file = 'vMF_sim.stan')"
   ]
  },
  {
   "cell_type": "code",
   "execution_count": null,
   "metadata": {
    "ExecuteTime": {
     "end_time": "2018-06-05T16:46:23.682584Z",
     "start_time": "2018-06-05T16:46:23.240721Z"
    }
   },
   "outputs": [],
   "source": [
    "# Use stan to simulate draws from the vMF\n",
    "kappa = [1, 10, 100]\n",
    "samples = []\n",
    "for k in kappa:\n",
    "    simu_parameters = {'N' : num_samples,\n",
    "                       'mu' : mu,\n",
    "                       'kappa' : k}\n",
    "\n",
    "    simu = simulation.sampling(data = simu_parameters, algorithm = \"Fixed_param\", \n",
    "                               iter = 1, chains = 1, seed = 19920715)\n",
    "\n",
    "    if(k == 1):\n",
    "        data_sample = simu.extract(['vMF_samples'])['vMF_samples'][0]\n",
    "    sample = simu.extract(['vMF_samples'])['vMF_samples'][0]\n",
    "    samples.append(vMFSample(sample, k))"
   ]
  },
  {
   "cell_type": "code",
   "execution_count": null,
   "metadata": {
    "ExecuteTime": {
     "end_time": "2018-06-05T16:46:30.076441Z",
     "start_time": "2018-06-05T16:46:25.704414Z"
    }
   },
   "outputs": [],
   "source": [
    "Sphere().plot(data = samples)"
   ]
  },
  {
   "cell_type": "markdown",
   "metadata": {},
   "source": [
    "## Fitting the data in Stan\n",
    "\n",
    "Use a simple model to infer $\\mu$ and $\\kappa$ from vMF samples. The model is defined in `vMF_model.stan` and uses the vMF_lpdf defined in `vMF.stan`."
   ]
  },
  {
   "cell_type": "code",
   "execution_count": null,
   "metadata": {
    "ExecuteTime": {
     "end_time": "2018-06-05T16:58:11.758894Z",
     "start_time": "2018-06-05T16:57:31.340299Z"
    }
   },
   "outputs": [],
   "source": [
    "model = pystan.StanModel(file = 'vMF_model.stan')"
   ]
  },
  {
   "cell_type": "code",
   "execution_count": null,
   "metadata": {
    "ExecuteTime": {
     "end_time": "2018-06-05T17:08:28.559246Z",
     "start_time": "2018-06-05T17:08:28.502387Z"
    }
   },
   "outputs": [],
   "source": [
    "sample = Sphere().sample(num_samples, distribution = 'vMF', mu = mu, kappa = 20).sample\n",
    "data = {'N' : len(sample), 'd' : sample}\n",
    "fit = model.sampling(data = data, seed = 19920715)"
   ]
  },
  {
   "cell_type": "code",
   "execution_count": null,
   "metadata": {
    "ExecuteTime": {
     "end_time": "2018-06-05T17:08:10.720322Z",
     "start_time": "2018-06-05T17:08:10.694038Z"
    }
   },
   "outputs": [],
   "source": [
    "print(fit)\n",
    "\n",
    "# compare with true values\n",
    "print('\\ntrue mu:', mu)\n",
    "print('true kappa:', 50)"
   ]
  },
  {
   "cell_type": "code",
   "execution_count": null,
   "metadata": {
    "ExecuteTime": {
     "end_time": "2018-06-05T17:05:00.364949Z",
     "start_time": "2018-06-05T17:04:58.910102Z"
    }
   },
   "outputs": [],
   "source": [
    "fig = fit.plot();\n",
    "fig.set_size_inches(20, 16)\n",
    "fig.tight_layout()"
   ]
  },
  {
   "cell_type": "code",
   "execution_count": null,
   "metadata": {
    "ExecuteTime": {
     "end_time": "2018-06-05T17:06:00.475949Z",
     "start_time": "2018-06-05T17:06:00.470588Z"
    }
   },
   "outputs": [],
   "source": []
  },
  {
   "cell_type": "code",
   "execution_count": null,
   "metadata": {},
   "outputs": [],
   "source": []
  }
 ],
 "metadata": {
  "kernelspec": {
   "display_name": "Python (bayes)",
   "language": "python",
   "name": "bayes"
  },
  "language_info": {
   "codemirror_mode": {
    "name": "ipython",
    "version": 3
   },
   "file_extension": ".py",
   "mimetype": "text/x-python",
   "name": "python",
   "nbconvert_exporter": "python",
   "pygments_lexer": "ipython3",
   "version": "3.6.4"
  }
 },
 "nbformat": 4,
 "nbformat_minor": 2
}
